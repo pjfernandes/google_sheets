{
 "cells": [
  {
   "cell_type": "code",
   "execution_count": 1,
   "id": "b27d0425",
   "metadata": {},
   "outputs": [],
   "source": [
    "import gspread\n",
    "import numpy as np\n",
    "import pandas as pd\n",
    "import json"
   ]
  },
  {
   "cell_type": "code",
   "execution_count": 2,
   "id": "9691811a",
   "metadata": {},
   "outputs": [],
   "source": [
    "gc = gspread.service_account(filename=\"service_account.json\")\n",
    "\n",
    "sub_20 = gc.open(\"20220402-Flamengo-SUB20\")\n",
    "elenco = gc.open(\"Audax Rio - SUB - Elenco\")"
   ]
  },
  {
   "cell_type": "code",
   "execution_count": 3,
   "id": "8116a921",
   "metadata": {},
   "outputs": [],
   "source": [
    "cadastro = elenco.worksheet(\"Cadastro\")\n",
    "antropometria = elenco.worksheet(\"Antropometria\")"
   ]
  },
  {
   "cell_type": "code",
   "execution_count": 4,
   "id": "bfd6368c",
   "metadata": {},
   "outputs": [
    {
     "data": {
      "text/html": [
       "<div>\n",
       "<style scoped>\n",
       "    .dataframe tbody tr th:only-of-type {\n",
       "        vertical-align: middle;\n",
       "    }\n",
       "\n",
       "    .dataframe tbody tr th {\n",
       "        vertical-align: top;\n",
       "    }\n",
       "\n",
       "    .dataframe thead th {\n",
       "        text-align: right;\n",
       "    }\n",
       "</style>\n",
       "<table border=\"1\" class=\"dataframe\">\n",
       "  <thead>\n",
       "    <tr style=\"text-align: right;\">\n",
       "      <th></th>\n",
       "      <th>Nome</th>\n",
       "      <th>Identificação</th>\n",
       "      <th>Medida</th>\n",
       "      <th>Valor</th>\n",
       "      <th>Data Atualização</th>\n",
       "    </tr>\n",
       "  </thead>\n",
       "  <tbody>\n",
       "    <tr>\n",
       "      <th>0</th>\n",
       "      <td>Andrey-Andrey Sousa Lemos</td>\n",
       "      <td>#VALUE!</td>\n",
       "      <td>Altura</td>\n",
       "      <td>1.83</td>\n",
       "      <td>20/03/2022 00:00:00</td>\n",
       "    </tr>\n",
       "    <tr>\n",
       "      <th>1</th>\n",
       "      <td>Cauã-Cauã de Lucas Souza Lemos</td>\n",
       "      <td>#VALUE!</td>\n",
       "      <td>Altura</td>\n",
       "      <td>1.86</td>\n",
       "      <td>20/03/2022 00:00:00</td>\n",
       "    </tr>\n",
       "    <tr>\n",
       "      <th>2</th>\n",
       "      <td>Barroi-Cleiverton Barbosa dos Santos</td>\n",
       "      <td>#VALUE!</td>\n",
       "      <td>Altura</td>\n",
       "      <td>1.85</td>\n",
       "      <td>20/03/2022 00:00:00</td>\n",
       "    </tr>\n",
       "    <tr>\n",
       "      <th>3</th>\n",
       "      <td>Dilsinho-Edilson Barbosa Filho</td>\n",
       "      <td>#VALUE!</td>\n",
       "      <td>Altura</td>\n",
       "      <td>1.85</td>\n",
       "      <td>20/03/2022 00:00:00</td>\n",
       "    </tr>\n",
       "    <tr>\n",
       "      <th>4</th>\n",
       "      <td>Dudu-Eduardo Magalhães dos Santos</td>\n",
       "      <td>#VALUE!</td>\n",
       "      <td>Altura</td>\n",
       "      <td>1.73</td>\n",
       "      <td>20/03/2022 00:00:00</td>\n",
       "    </tr>\n",
       "  </tbody>\n",
       "</table>\n",
       "</div>"
      ],
      "text/plain": [
       "0                                  Nome Identificação  Medida Valor  \\\n",
       "0             Andrey-Andrey Sousa Lemos       #VALUE!  Altura  1.83   \n",
       "1        Cauã-Cauã de Lucas Souza Lemos       #VALUE!  Altura  1.86   \n",
       "2  Barroi-Cleiverton Barbosa dos Santos       #VALUE!  Altura  1.85   \n",
       "3        Dilsinho-Edilson Barbosa Filho       #VALUE!  Altura  1.85   \n",
       "4     Dudu-Eduardo Magalhães dos Santos       #VALUE!  Altura  1.73   \n",
       "\n",
       "0     Data Atualização  \n",
       "0  20/03/2022 00:00:00  \n",
       "1  20/03/2022 00:00:00  \n",
       "2  20/03/2022 00:00:00  \n",
       "3  20/03/2022 00:00:00  \n",
       "4  20/03/2022 00:00:00  "
      ]
     },
     "execution_count": 4,
     "metadata": {},
     "output_type": "execute_result"
    }
   ],
   "source": [
    "antropometria_df = pd.DataFrame(antropometria.get_all_values())\n",
    "antropometria_df.columns = antropometria_df.iloc[0]\n",
    "antropometria_df = antropometria_df.drop([0])\n",
    "antropometria_df.index = range(len(antropometria_df.index))\n",
    "antropometria_df.head()"
   ]
  },
  {
   "cell_type": "code",
   "execution_count": 5,
   "id": "4c816684",
   "metadata": {},
   "outputs": [
    {
     "data": {
      "text/html": [
       "<div>\n",
       "<style scoped>\n",
       "    .dataframe tbody tr th:only-of-type {\n",
       "        vertical-align: middle;\n",
       "    }\n",
       "\n",
       "    .dataframe tbody tr th {\n",
       "        vertical-align: top;\n",
       "    }\n",
       "\n",
       "    .dataframe thead th {\n",
       "        text-align: right;\n",
       "    }\n",
       "</style>\n",
       "<table border=\"1\" class=\"dataframe\">\n",
       "  <thead>\n",
       "    <tr style=\"text-align: right;\">\n",
       "      <th></th>\n",
       "      <th>Nome</th>\n",
       "      <th>Apelido</th>\n",
       "      <th>CPF</th>\n",
       "      <th>Posição</th>\n",
       "      <th>Data Nascimento</th>\n",
       "      <th>Identificação</th>\n",
       "    </tr>\n",
       "  </thead>\n",
       "  <tbody>\n",
       "    <tr>\n",
       "      <th>0</th>\n",
       "      <td>Andrey Sousa Lemos</td>\n",
       "      <td>Andrey</td>\n",
       "      <td>139.901.867-10</td>\n",
       "      <td>Volante</td>\n",
       "      <td>16/05/2004</td>\n",
       "      <td>#VALUE!</td>\n",
       "    </tr>\n",
       "    <tr>\n",
       "      <th>1</th>\n",
       "      <td>Cauã de Lucas Souza Lemos</td>\n",
       "      <td>Cauã</td>\n",
       "      <td>200.809.627-00</td>\n",
       "      <td>Goleiro</td>\n",
       "      <td>09/10/2003</td>\n",
       "      <td>#VALUE!</td>\n",
       "    </tr>\n",
       "    <tr>\n",
       "      <th>2</th>\n",
       "      <td>Cleiverton Barbosa dos Santos</td>\n",
       "      <td>Barroi</td>\n",
       "      <td>170.901.227-78</td>\n",
       "      <td>Lateral Direito</td>\n",
       "      <td>01/07/2002</td>\n",
       "      <td>#VALUE!</td>\n",
       "    </tr>\n",
       "    <tr>\n",
       "      <th>3</th>\n",
       "      <td>Douglas Alves de Oliveira</td>\n",
       "      <td>Guinho</td>\n",
       "      <td></td>\n",
       "      <td>Volante</td>\n",
       "      <td>02/04/2003</td>\n",
       "      <td>#VALUE!</td>\n",
       "    </tr>\n",
       "    <tr>\n",
       "      <th>4</th>\n",
       "      <td>Douglas Igor Freitas dos Santos</td>\n",
       "      <td>Índio</td>\n",
       "      <td></td>\n",
       "      <td>Zagueiro</td>\n",
       "      <td></td>\n",
       "      <td>#VALUE!</td>\n",
       "    </tr>\n",
       "  </tbody>\n",
       "</table>\n",
       "</div>"
      ],
      "text/plain": [
       "0                              Nome Apelido             CPF          Posição  \\\n",
       "0                Andrey Sousa Lemos  Andrey  139.901.867-10          Volante   \n",
       "1         Cauã de Lucas Souza Lemos    Cauã  200.809.627-00          Goleiro   \n",
       "2     Cleiverton Barbosa dos Santos  Barroi  170.901.227-78  Lateral Direito   \n",
       "3         Douglas Alves de Oliveira  Guinho                          Volante   \n",
       "4  Douglas Igor Freitas dos Santos    Índio                         Zagueiro   \n",
       "\n",
       "0 Data Nascimento Identificação  \n",
       "0      16/05/2004       #VALUE!  \n",
       "1      09/10/2003       #VALUE!  \n",
       "2      01/07/2002       #VALUE!  \n",
       "3      02/04/2003       #VALUE!  \n",
       "4                       #VALUE!  "
      ]
     },
     "execution_count": 5,
     "metadata": {},
     "output_type": "execute_result"
    }
   ],
   "source": [
    "cadastro_df = pd.DataFrame(cadastro.get_all_values())\n",
    "cadastro_df = cadastro_df.drop(range(8))\n",
    "cadastro_df.index = range(len(cadastro_df.index))\n",
    "cadastro_df.columns = cadastro_df.iloc[0]\n",
    "cadastro_df = cadastro_df.drop([0])\n",
    "cadastro_df = cadastro_df.drop(columns=[''])\n",
    "cadastro_df.index = range(len(cadastro_df.index))\n",
    "cadastro_df.head()\n",
    "\n",
    "\n"
   ]
  },
  {
   "cell_type": "code",
   "execution_count": 6,
   "id": "16dcce6f",
   "metadata": {},
   "outputs": [],
   "source": [
    "cadastro_df.to_csv(\"cadastro_df.csv\")\n",
    "antropometria_df.to_csv(\"antropometria_df.csv\")"
   ]
  },
  {
   "cell_type": "code",
   "execution_count": 7,
   "id": "ef92e195",
   "metadata": {},
   "outputs": [
    {
     "data": {
      "text/html": [
       "<div>\n",
       "<style scoped>\n",
       "    .dataframe tbody tr th:only-of-type {\n",
       "        vertical-align: middle;\n",
       "    }\n",
       "\n",
       "    .dataframe tbody tr th {\n",
       "        vertical-align: top;\n",
       "    }\n",
       "\n",
       "    .dataframe thead th {\n",
       "        text-align: right;\n",
       "    }\n",
       "</style>\n",
       "<table border=\"1\" class=\"dataframe\">\n",
       "  <thead>\n",
       "    <tr style=\"text-align: right;\">\n",
       "      <th></th>\n",
       "      <th>Camisa</th>\n",
       "      <th>GPS</th>\n",
       "      <th>Nome</th>\n",
       "      <th>Identificação</th>\n",
       "      <th>Posição</th>\n",
       "      <th>Titular</th>\n",
       "    </tr>\n",
       "  </thead>\n",
       "  <tbody>\n",
       "    <tr>\n",
       "      <th>0</th>\n",
       "      <td>1</td>\n",
       "      <td>1</td>\n",
       "      <td>Cauã-Cauã de Lucas Souza Lemos</td>\n",
       "      <td>#VALUE!</td>\n",
       "      <td>Goleiro</td>\n",
       "      <td>X</td>\n",
       "    </tr>\n",
       "    <tr>\n",
       "      <th>1</th>\n",
       "      <td>2</td>\n",
       "      <td>2</td>\n",
       "      <td>Raphinha-Raphael de Sousa Monteiro Carlos</td>\n",
       "      <td>#VALUE!</td>\n",
       "      <td>Lateral Direito</td>\n",
       "      <td>X</td>\n",
       "    </tr>\n",
       "    <tr>\n",
       "      <th>2</th>\n",
       "      <td>3</td>\n",
       "      <td>3</td>\n",
       "      <td>Yuri-Yuri de Oliveira Borges</td>\n",
       "      <td>#VALUE!</td>\n",
       "      <td>Zagueiro</td>\n",
       "      <td>X</td>\n",
       "    </tr>\n",
       "    <tr>\n",
       "      <th>3</th>\n",
       "      <td>4</td>\n",
       "      <td>4</td>\n",
       "      <td>Rafa-Rafael Reis de Azevedo</td>\n",
       "      <td>#VALUE!</td>\n",
       "      <td>Zagueiro</td>\n",
       "      <td>X</td>\n",
       "    </tr>\n",
       "    <tr>\n",
       "      <th>4</th>\n",
       "      <td>5</td>\n",
       "      <td>5</td>\n",
       "      <td>Felippe-Felipe Silva Borba dos Anjos</td>\n",
       "      <td>#VALUE!</td>\n",
       "      <td>Volante</td>\n",
       "      <td>X</td>\n",
       "    </tr>\n",
       "  </tbody>\n",
       "</table>\n",
       "</div>"
      ],
      "text/plain": [
       "0 Camisa GPS                                        Nome Identificação  \\\n",
       "0      1   1              Cauã-Cauã de Lucas Souza Lemos       #VALUE!   \n",
       "1      2   2  Raphinha-Raphael de Sousa Monteiro Carlos        #VALUE!   \n",
       "2      3   3                Yuri-Yuri de Oliveira Borges       #VALUE!   \n",
       "3      4   4                 Rafa-Rafael Reis de Azevedo       #VALUE!   \n",
       "4      5   5        Felippe-Felipe Silva Borba dos Anjos       #VALUE!   \n",
       "\n",
       "0          Posição Titular  \n",
       "0          Goleiro       X  \n",
       "1  Lateral Direito       X  \n",
       "2         Zagueiro       X  \n",
       "3         Zagueiro       X  \n",
       "4          Volante       X  "
      ]
     },
     "execution_count": 7,
     "metadata": {},
     "output_type": "execute_result"
    }
   ],
   "source": [
    "escalacao = sub_20.worksheet(\"Escalacao\")\n",
    "\n",
    "escalacao_df = pd.DataFrame(escalacao.get_all_values())\n",
    "escalacao_df.columns = escalacao_df.iloc[0]\n",
    "escalacao_df = escalacao_df.drop([0])\n",
    "escalacao_df.index = range(len(escalacao_df.index))\n",
    "escalacao_df.head()"
   ]
  },
  {
   "cell_type": "code",
   "execution_count": 8,
   "id": "7a8b7f5e",
   "metadata": {},
   "outputs": [],
   "source": [
    "escalacao_df[\"Titular\"] = np.where(escalacao_df[\"Titular\"] == \"X\", True, False)"
   ]
  },
  {
   "cell_type": "code",
   "execution_count": 9,
   "id": "c090c1b3",
   "metadata": {},
   "outputs": [
    {
     "data": {
      "text/html": [
       "<div>\n",
       "<style scoped>\n",
       "    .dataframe tbody tr th:only-of-type {\n",
       "        vertical-align: middle;\n",
       "    }\n",
       "\n",
       "    .dataframe tbody tr th {\n",
       "        vertical-align: top;\n",
       "    }\n",
       "\n",
       "    .dataframe thead th {\n",
       "        text-align: right;\n",
       "    }\n",
       "</style>\n",
       "<table border=\"1\" class=\"dataframe\">\n",
       "  <thead>\n",
       "    <tr style=\"text-align: right;\">\n",
       "      <th></th>\n",
       "      <th>Camisa</th>\n",
       "      <th>GPS</th>\n",
       "      <th>Identificação</th>\n",
       "      <th>Posição</th>\n",
       "      <th>Titular</th>\n",
       "    </tr>\n",
       "  </thead>\n",
       "  <tbody>\n",
       "    <tr>\n",
       "      <th>0</th>\n",
       "      <td>1</td>\n",
       "      <td>1</td>\n",
       "      <td>#VALUE!</td>\n",
       "      <td>Goleiro</td>\n",
       "      <td>True</td>\n",
       "    </tr>\n",
       "    <tr>\n",
       "      <th>1</th>\n",
       "      <td>2</td>\n",
       "      <td>2</td>\n",
       "      <td>#VALUE!</td>\n",
       "      <td>Lateral Direito</td>\n",
       "      <td>True</td>\n",
       "    </tr>\n",
       "    <tr>\n",
       "      <th>2</th>\n",
       "      <td>3</td>\n",
       "      <td>3</td>\n",
       "      <td>#VALUE!</td>\n",
       "      <td>Zagueiro</td>\n",
       "      <td>True</td>\n",
       "    </tr>\n",
       "    <tr>\n",
       "      <th>3</th>\n",
       "      <td>4</td>\n",
       "      <td>4</td>\n",
       "      <td>#VALUE!</td>\n",
       "      <td>Zagueiro</td>\n",
       "      <td>True</td>\n",
       "    </tr>\n",
       "    <tr>\n",
       "      <th>4</th>\n",
       "      <td>5</td>\n",
       "      <td>5</td>\n",
       "      <td>#VALUE!</td>\n",
       "      <td>Volante</td>\n",
       "      <td>True</td>\n",
       "    </tr>\n",
       "  </tbody>\n",
       "</table>\n",
       "</div>"
      ],
      "text/plain": [
       "0 Camisa GPS Identificação          Posição  Titular\n",
       "0      1   1       #VALUE!          Goleiro     True\n",
       "1      2   2       #VALUE!  Lateral Direito     True\n",
       "2      3   3       #VALUE!         Zagueiro     True\n",
       "3      4   4       #VALUE!         Zagueiro     True\n",
       "4      5   5       #VALUE!          Volante     True"
      ]
     },
     "execution_count": 9,
     "metadata": {},
     "output_type": "execute_result"
    }
   ],
   "source": [
    "escalacao_df = escalacao_df.drop(columns=[\"Nome\"])\n",
    "escalacao_df.to_csv(\"escalacao_df.csv\")\n",
    "escalacao_df.head()\n"
   ]
  },
  {
   "cell_type": "code",
   "execution_count": 10,
   "id": "96926f10",
   "metadata": {},
   "outputs": [
    {
     "data": {
      "text/plain": [
       "{'cronologia': {'aquecimento': {'inicio': '8:20:00 AM', 'fim': '8:40:00 AM'},\n",
       "  '1º tempo': {'inicio': '9:00:00 AM', 'fim': '9:48:00 AM'},\n",
       "  'intervalo': {'inicio': '9:48:00 AM', 'fim': '10:03:00 AM'},\n",
       "  '2º tempo': {'inicio': '10:04:00 AM', 'fim': '10:50:00 AM'}}}"
      ]
     },
     "execution_count": 10,
     "metadata": {},
     "output_type": "execute_result"
    }
   ],
   "source": [
    "scout = sub_20.worksheet(\"Scout\")\n",
    "\n",
    "cronologia = {\"cronologia\" : {}}\n",
    "\n",
    "begin = scout.find(\"CRONOLOGIA\").row + 1 \n",
    "end = scout.find(\"ESTATÍSTICA\").row - 1\n",
    "\n",
    "for i in range(len(scout.get_all_values()[begin:end])):\n",
    "    cronologia[\"cronologia\"][scout.get_all_values()[begin:end][i][0]] = { \n",
    "            \"inicio\": scout.get_all_values()[begin:end][i][1], \n",
    "             \"fim\": scout.get_all_values()[begin:end][i][2]\n",
    "        } \n",
    "\n",
    "cronologia"
   ]
  },
  {
   "cell_type": "code",
   "execution_count": 11,
   "id": "711d6372",
   "metadata": {},
   "outputs": [
    {
     "data": {
      "text/plain": [
       "[['aquecimento', '8:20:00 AM', '8:40:00 AM', '', '', '', ''],\n",
       " ['1º tempo', '9:00:00 AM', '9:48:00 AM', '', '', '', ''],\n",
       " ['intervalo', '9:48:00 AM', '10:03:00 AM', '', '', '', ''],\n",
       " ['2º tempo', '10:04:00 AM', '10:50:00 AM', '', '', '', '']]"
      ]
     },
     "execution_count": 11,
     "metadata": {},
     "output_type": "execute_result"
    }
   ],
   "source": [
    "scout.get_all_values()[10:14]"
   ]
  },
  {
   "cell_type": "code",
   "execution_count": 12,
   "id": "ed20c31a",
   "metadata": {},
   "outputs": [
    {
     "data": {
      "text/plain": [
       "{'estatistica': [{'metrica': 'Finalização',\n",
       "   'fase': '1º tempo',\n",
       "   'casa': '3',\n",
       "   'adversario': '3'},\n",
       "  {'metrica': 'Finalização',\n",
       "   'fase': '2º tempo',\n",
       "   'casa': '3',\n",
       "   'adversario': '0'},\n",
       "  {'metrica': 'Falta', 'fase': '1º tempo', 'casa': '3', 'adversario': '2'},\n",
       "  {'metrica': 'Falta', 'fase': '2º tempo', 'casa': '1', 'adversario': '3'},\n",
       "  {'metrica': 'Escanteio', 'fase': '1º tempo', 'casa': '2', 'adversario': '1'},\n",
       "  {'metrica': 'Escanteio', 'fase': '2º tempo', 'casa': '1', 'adversario': '0'},\n",
       "  {'metrica': 'Impedimento',\n",
       "   'fase': '1º tempo',\n",
       "   'casa': '1',\n",
       "   'adversario': '0'},\n",
       "  {'metrica': 'Impedimento',\n",
       "   'fase': '2º tempo',\n",
       "   'casa': '2',\n",
       "   'adversario': '0'}]}"
      ]
     },
     "execution_count": 12,
     "metadata": {},
     "output_type": "execute_result"
    }
   ],
   "source": [
    "estatistica = {\"estatistica\" : [] }\n",
    "\n",
    "begin = scout.find(\"ESTATÍSTICA\").row + 1 \n",
    "end = scout.find(\"GOLS\").row - 1\n",
    "\n",
    "for i in range(len(scout.get_all_values()[begin:end])):\n",
    "    estatistica[\"estatistica\"].append({\n",
    "        \"metrica\": scout.get_all_values()[begin:end][i][0],\n",
    "        \"fase\": scout.get_all_values()[begin:end][i][1],\n",
    "        \"casa\": scout.get_all_values()[begin:end][i][2],\n",
    "        \"adversario\": scout.get_all_values()[begin:end][i][3]\n",
    "    }) \n",
    "        \n",
    "\n",
    "estatistica"
   ]
  },
  {
   "cell_type": "code",
   "execution_count": 15,
   "id": "0a7af773",
   "metadata": {},
   "outputs": [
    {
     "data": {
      "text/plain": [
       "{'gols': [{'horario': '9:28:00 AM',\n",
       "   'fase': '1° tempo',\n",
       "   'tipo': 'NR',\n",
       "   'camisa': '5',\n",
       "   'time': 'Adversário'},\n",
       "  {'horario': '9:34:00 AM',\n",
       "   'fase': '1° tempo',\n",
       "   'tipo': 'NR',\n",
       "   'camisa': '9',\n",
       "   'time': 'Adversário'},\n",
       "  {'horario': '10:17:00 AM',\n",
       "   'fase': '2° tempo',\n",
       "   'tipo': 'NR',\n",
       "   'camisa': '10',\n",
       "   'time': 'Adversário'},\n",
       "  {'horario': '10:29:00 AM',\n",
       "   'fase': '2° tempo',\n",
       "   'tipo': 'NR',\n",
       "   'camisa': '25',\n",
       "   'time': 'Adversário'},\n",
       "  {'horario': '10:50:00 AM',\n",
       "   'fase': '2° tempo',\n",
       "   'tipo': 'NR',\n",
       "   'camisa': '21',\n",
       "   'time': 'Adversário'},\n",
       "  {'horario': '', 'fase': '', 'tipo': '', 'camisa': '', 'time': ''},\n",
       "  {'horario': '', 'fase': '', 'tipo': '', 'camisa': '', 'time': ''}]}"
      ]
     },
     "execution_count": 15,
     "metadata": {},
     "output_type": "execute_result"
    }
   ],
   "source": [
    "gols = {\"gols\" : [] }\n",
    "\n",
    "begin = scout.find(\"GOLS\").row + 1 \n",
    "end = scout.find(\"LESÃO\").row - 1\n",
    "\n",
    "for i in range(len(scout.get_all_values()[begin:end])):\n",
    "    gols[\"gols\"].append({\n",
    "        \"horario\": scout.get_all_values()[begin:end][i][0],\n",
    "        \"fase\": scout.get_all_values()[begin:end][i][1],\n",
    "        \"tipo\": scout.get_all_values()[begin:end][i][2],\n",
    "        \"camisa\": scout.get_all_values()[begin:end][i][3],\n",
    "        \"time\": scout.get_all_values()[begin:end][i][4]\n",
    "    }) \n",
    "        \n",
    "\n",
    "gols"
   ]
  },
  {
   "cell_type": "code",
   "execution_count": 16,
   "id": "332ec618",
   "metadata": {},
   "outputs": [
    {
     "data": {
      "text/plain": [
       "{'lesao': [{'horario': '', 'fase': '', 'tipo': '', 'camisa': '', 'time': ''},\n",
       "  {'horario': '', 'fase': '', 'tipo': '', 'camisa': '', 'time': ''},\n",
       "  {'horario': '', 'fase': '', 'tipo': '', 'camisa': '', 'time': ''},\n",
       "  {'horario': '', 'fase': '', 'tipo': '', 'camisa': '', 'time': ''},\n",
       "  {'horario': '', 'fase': '', 'tipo': '', 'camisa': '', 'time': ''},\n",
       "  {'horario': '', 'fase': '', 'tipo': '', 'camisa': '', 'time': ''},\n",
       "  {'horario': '', 'fase': '', 'tipo': '', 'camisa': '', 'time': ''}]}"
      ]
     },
     "execution_count": 16,
     "metadata": {},
     "output_type": "execute_result"
    }
   ],
   "source": [
    "lesao = {\"lesao\" : [] }\n",
    "\n",
    "begin = scout.find(\"LESÃO\").row + 1 \n",
    "end = scout.find(\"CARTÕES\").row - 1\n",
    "\n",
    "for i in range(len(scout.get_all_values()[begin:end])):\n",
    "    lesao[\"lesao\"].append({\n",
    "        \"horario\": scout.get_all_values()[begin:end][i][0],\n",
    "        \"fase\": scout.get_all_values()[begin:end][i][1],\n",
    "        \"tipo\": scout.get_all_values()[begin:end][i][2],\n",
    "        \"camisa\": scout.get_all_values()[begin:end][i][3],\n",
    "        \"time\": scout.get_all_values()[begin:end][i][4]\n",
    "    }) \n",
    "        \n",
    "\n",
    "lesao"
   ]
  },
  {
   "cell_type": "code",
   "execution_count": 17,
   "id": "91bf637a",
   "metadata": {},
   "outputs": [
    {
     "data": {
      "text/plain": [
       "{'cartoes': [{'horario': '9:32:00 AM',\n",
       "   'fase': '1° tempo',\n",
       "   'tipo': 'amarelo',\n",
       "   'camisa': '3',\n",
       "   'time': 'Casa'},\n",
       "  {'horario': '9:38:00 AM',\n",
       "   'fase': '1° tempo',\n",
       "   'tipo': 'amarelo',\n",
       "   'camisa': '11',\n",
       "   'time': 'Adversário'},\n",
       "  {'horario': '9:39:00 AM',\n",
       "   'fase': '1° tempo',\n",
       "   'tipo': 'amarelo',\n",
       "   'camisa': '6',\n",
       "   'time': 'Casa'},\n",
       "  {'horario': '', 'fase': '', 'tipo': '', 'camisa': '', 'time': ''},\n",
       "  {'horario': '', 'fase': '', 'tipo': '', 'camisa': '', 'time': ''},\n",
       "  {'horario': '', 'fase': '', 'tipo': '', 'camisa': '', 'time': ''},\n",
       "  {'horario': '', 'fase': '', 'tipo': '', 'camisa': '', 'time': ''}]}"
      ]
     },
     "execution_count": 17,
     "metadata": {},
     "output_type": "execute_result"
    }
   ],
   "source": [
    "cartoes = {\"cartoes\" : [] }\n",
    "\n",
    "begin = scout.find(\"CARTÕES\").row + 1 \n",
    "end = scout.find(\"SUBSTITUIÇÃO\").row - 1\n",
    "\n",
    "for i in range(len(scout.get_all_values()[begin:end])):\n",
    "    cartoes[\"cartoes\"].append({\n",
    "        \"horario\": scout.get_all_values()[begin:end][i][0],\n",
    "        \"fase\": scout.get_all_values()[begin:end][i][1],\n",
    "        \"tipo\": scout.get_all_values()[begin:end][i][2],\n",
    "        \"camisa\": scout.get_all_values()[begin:end][i][3],\n",
    "        \"time\": scout.get_all_values()[begin:end][i][4]\n",
    "    }) \n",
    "        \n",
    "\n",
    "cartoes"
   ]
  },
  {
   "cell_type": "code",
   "execution_count": 22,
   "id": "7140cff9",
   "metadata": {},
   "outputs": [
    {
     "data": {
      "text/plain": [
       "{'substituicao': [{'horario': '10:26:00 AM',\n",
       "   'fase': '2° tempo',\n",
       "   'entrou': '15',\n",
       "   'saiu': '5'},\n",
       "  {'horario': '10:26:00 AM', 'fase': '2° tempo', 'entrou': '14', 'saiu': '11'},\n",
       "  {'horario': '10:33:00 AM', 'fase': '2° tempo', 'entrou': '18', 'saiu': '7'},\n",
       "  {'horario': '10:33:00 AM', 'fase': '2° tempo', 'entrou': '17', 'saiu': '10'},\n",
       "  {'horario': '10:42:00 AM', 'fase': '2° tempo', 'entrou': '21', 'saiu': '9'},\n",
       "  {'horario': '10:42:00 AM', 'fase': '2° tempo', 'entrou': '20', 'saiu': '8'}]}"
      ]
     },
     "execution_count": 22,
     "metadata": {},
     "output_type": "execute_result"
    }
   ],
   "source": [
    "substituicao = {\"substituicao\" : [] }\n",
    "\n",
    "begin = scout.find(\"SUBSTITUIÇÃO\").row + 1\n",
    "end = scout.row_count\n",
    "\n",
    "for i in range(len(scout.get_all_values()[begin:end])):\n",
    "    substituicao[\"substituicao\"].append({\n",
    "        \"horario\": scout.get_all_values()[begin:end][i][0],\n",
    "        \"fase\": scout.get_all_values()[begin:end][i][1],\n",
    "        \"entrou\": scout.get_all_values()[begin:end][i][2],\n",
    "        \"saiu\": scout.get_all_values()[begin:end][i][3]\n",
    "    })\n",
    "\n",
    "\n",
    "substituicao\n"
   ]
  },
  {
   "cell_type": "code",
   "execution_count": 23,
   "id": "dbef505e",
   "metadata": {},
   "outputs": [
    {
     "data": {
      "text/plain": [
       "{'EVENTO': 'Campeonato',\n",
       " 'Nome: ': 'CARIOCA SUB-20',\n",
       " 'RODADA:': '2',\n",
       " 'DATA:': '02/04/2022',\n",
       " 'HORÁRIO:': '09:00',\n",
       " 'LOCAL:': 'Gávea',\n",
       " 'ADVERSÁRIO:': 'Flamengo'}"
      ]
     },
     "execution_count": 23,
     "metadata": {},
     "output_type": "execute_result"
    }
   ],
   "source": [
    "evento = {}\n",
    "begin = 1\n",
    "end = scout.find(\"CRONOLOGIA\").row - 1 \n",
    "\n",
    "for i in range(len(scout.get_all_values()[begin:end])):\n",
    "    evento[scout.get_all_values()[begin:end][i][0]] = scout.get_all_values()[begin:end][i][1]\n",
    "\n",
    "evento"
   ]
  },
  {
   "cell_type": "code",
   "execution_count": 24,
   "id": "39745a4b",
   "metadata": {},
   "outputs": [],
   "source": [
    "result = {**evento, **cronologia, **estatistica, **gols, **lesao, **cartoes, **substituicao}"
   ]
  },
  {
   "cell_type": "code",
   "execution_count": 25,
   "id": "c0059449",
   "metadata": {},
   "outputs": [],
   "source": [
    "import json\n",
    "\n",
    "with open('data.json', 'w') as f:\n",
    "    json.dump(result, f)"
   ]
  },
  {
   "cell_type": "code",
   "execution_count": null,
   "id": "8bc3cc5e",
   "metadata": {},
   "outputs": [],
   "source": []
  }
 ],
 "metadata": {
  "kernelspec": {
   "display_name": "Python 3 (ipykernel)",
   "language": "python",
   "name": "python3"
  },
  "language_info": {
   "codemirror_mode": {
    "name": "ipython",
    "version": 3
   },
   "file_extension": ".py",
   "mimetype": "text/x-python",
   "name": "python",
   "nbconvert_exporter": "python",
   "pygments_lexer": "ipython3",
   "version": "3.9.7"
  }
 },
 "nbformat": 4,
 "nbformat_minor": 5
}
